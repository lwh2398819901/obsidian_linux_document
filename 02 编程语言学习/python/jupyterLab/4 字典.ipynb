{
 "cells": [
  {
   "cell_type": "markdown",
   "id": "8365ec39",
   "metadata": {},
   "source": [
    "## 增删改查\n",
    "### 创建字典"
   ]
  },
  {
   "cell_type": "code",
   "execution_count": null,
   "id": "d3b2564f",
   "metadata": {},
   "outputs": [],
   "source": [
    "my_dict = {}  # 空字典"
   ]
  },
  {
   "cell_type": "code",
   "execution_count": null,
   "id": "c6386b84",
   "metadata": {},
   "outputs": [],
   "source": [
    "my_dict = {'name': 'John', 'age': 25}  # 创建带有初始键值对的字典b"
   ]
  },
  {
   "cell_type": "code",
   "execution_count": null,
   "id": "71486335",
   "metadata": {},
   "outputs": [],
   "source": [
    "my_list = [1, 2, 3, 4, 5]\n",
    "my_dict = {x: x**2 for x in my_list}\n",
    "print(my_dict)  # 输出: {1: 1, 2: 4, 3: 9, 4: 16, 5: 25}"
   ]
  },
  {
   "cell_type": "code",
   "execution_count": null,
   "id": "9568a826",
   "metadata": {},
   "outputs": [],
   "source": [
    "keys = ['a', 'b', 'c']\n",
    "values = [1, 2, 3]\n",
    "my_dict = {k: v for k, v in zip(keys, values)}\n",
    "print(my_dict)  # 输出: {'a': 1, 'b': 2, 'c': 3}"
   ]
  },
  {
   "cell_type": "markdown",
   "id": "8902e851",
   "metadata": {},
   "source": [
    "### 增加 or 修改"
   ]
  },
  {
   "cell_type": "code",
   "execution_count": null,
   "id": "fb10e8cb",
   "metadata": {},
   "outputs": [],
   "source": [
    "my_dict={}\n",
    "my_dict['city'] = 'New York'\n",
    "print(my_dict)"
   ]
  },
  {
   "cell_type": "markdown",
   "id": "b1fa5399",
   "metadata": {},
   "source": [
    "### 删除"
   ]
  },
  {
   "cell_type": "code",
   "execution_count": null,
   "id": "4be4717b",
   "metadata": {},
   "outputs": [],
   "source": [
    "my_dict = {'a': 1, 'b': 2, 'c': 3}\n",
    "del my_dict['a']\n",
    "print(my_dict)  # 输出: {'b': 2, 'c': 3}"
   ]
  },
  {
   "cell_type": "markdown",
   "id": "02289175",
   "metadata": {},
   "source": [
    "---\n",
    "清空"
   ]
  },
  {
   "cell_type": "code",
   "execution_count": null,
   "id": "96b5acbe",
   "metadata": {},
   "outputs": [],
   "source": [
    "my_dict = {'a': 1, 'b': 2, 'c': 3}\n",
    "my_dict.clear()\n",
    "print(my_dict) "
   ]
  },
  {
   "cell_type": "markdown",
   "id": "9dcfd80a",
   "metadata": {},
   "source": [
    "### 查找"
   ]
  },
  {
   "cell_type": "code",
   "execution_count": null,
   "id": "775bdc08",
   "metadata": {},
   "outputs": [],
   "source": [
    "# 获取所有key 和value 我本以为返回是list类型 没想到是dict_keys 和 dict_values\n",
    "my_dict = {'a': 1, 'b': 2, 'c': 3}\n",
    "keys = my_dict.keys()\n",
    "values = my_dict.values()\n",
    "print(keys)\n",
    "print(values)\n",
    "print(type(keys))\n",
    "print(type(values))"
   ]
  },
  {
   "cell_type": "markdown",
   "id": "9acbca81",
   "metadata": {},
   "source": [
    "---\n",
    "判断 key 是否存在"
   ]
  },
  {
   "cell_type": "code",
   "execution_count": null,
   "id": "012d5b6a",
   "metadata": {},
   "outputs": [],
   "source": [
    "if 'name' in my_dict:\n",
    "    print(\"存在\")"
   ]
  },
  {
   "cell_type": "markdown",
   "id": "872a7d84",
   "metadata": {},
   "source": [
    "---\n",
    "遍历"
   ]
  },
  {
   "cell_type": "code",
   "execution_count": null,
   "id": "13746124",
   "metadata": {},
   "outputs": [],
   "source": [
    "for key, value in my_dict.items():\n",
    "    print(key, value)"
   ]
  },
  {
   "cell_type": "markdown",
   "id": "7decc31d",
   "metadata": {},
   "source": [
    "---\n",
    "get 返回带有默认值"
   ]
  },
  {
   "cell_type": "code",
   "execution_count": null,
   "id": "d27805d2",
   "metadata": {},
   "outputs": [],
   "source": [
    "my_dict = {'a': 1, 'b': 2}\n",
    "value = my_dict.get('c', 0)  # 如果键'c'不存在，则返回默认值0\n",
    "print(value)  # 输出: 0"
   ]
  },
  {
   "cell_type": "markdown",
   "id": "d1ec8724",
   "metadata": {},
   "source": [
    "## 操作\n",
    "### 有序字典"
   ]
  },
  {
   "cell_type": "code",
   "execution_count": null,
   "id": "03a64fb9",
   "metadata": {},
   "outputs": [],
   "source": [
    "from collections import OrderedDict\n",
    "# 创建一个空的有序字典\n",
    "my_dict = OrderedDict()\n",
    "# 插入键值对到特定位置\n",
    "my_dict['name'] = 'John'\n",
    "my_dict['age'] = 25\n",
    "my_dict['city'] = 'New York'\n",
    "my_dict['country'] = 'USA'\n",
    "# 将新的键值对插入到特定位置\n",
    "my_dict.update({'city': 'Chicago'}, at=1)\n",
    "print(my_dict)"
   ]
  },
  {
   "cell_type": "markdown",
   "id": "b503fbd4",
   "metadata": {},
   "source": [
    "### 带默认值字典"
   ]
  },
  {
   "cell_type": "code",
   "execution_count": null,
   "id": "bd244b64",
   "metadata": {},
   "outputs": [],
   "source": [
    "from collections import defaultdict\n",
    "# 创建一个默认值为0的字典\n",
    "my_dict = defaultdict(int)\n",
    "print(my_dict['a'])  # 输出: 0"
   ]
  },
  {
   "cell_type": "markdown",
   "id": "107a915f",
   "metadata": {},
   "source": [
    "### 统计"
   ]
  },
  {
   "cell_type": "code",
   "execution_count": null,
   "id": "a67daced",
   "metadata": {},
   "outputs": [],
   "source": [
    "from collections import Counter\n",
    "my_list = ['apple', 'banana', 'apple', 'orange', 'banana', 'apple']\n",
    "my_dict = Counter(my_list)\n",
    "print(my_dict)  # 输出: Counter({'apple': 3, 'banana': 2, 'orange': 1})"
   ]
  },
  {
   "cell_type": "markdown",
   "id": "712cffea",
   "metadata": {},
   "source": [
    "### 交集 并集 差集"
   ]
  },
  {
   "cell_type": "code",
   "execution_count": null,
   "id": "8c4e0cd0",
   "metadata": {},
   "outputs": [],
   "source": [
    "dict1 = {'a': 1, 'b': 2, 'c': 3}\n",
    "dict2 = {'b': 2, 'c': 4, 'd': 5}\n",
    "# 计算两个字典的交集\n",
    "intersection = {key: dict1[key] for key in dict1.keys() & dict2}\n",
    "# 计算两个字典的并集\n",
    "union = {**dict1, **dict2}\n",
    "# 计算两个字典的差集\n",
    "difference = {key: dict1[key] for key in dict1.keys() - dict2}\n",
    "print(intersection)  # 输出: {'b': 2, 'c': 3}\n",
    "print(union)  # 输出: {'a': 1, 'b': 2, 'c': 4, 'd': 5}\n",
    "print(difference)  # 输出: {'a': 1}"
   ]
  },
  {
   "cell_type": "markdown",
   "id": "e5b41823",
   "metadata": {},
   "source": [
    "### 判断"
   ]
  },
  {
   "cell_type": "code",
   "execution_count": null,
   "id": "7230be2a",
   "metadata": {},
   "outputs": [],
   "source": [
    "dict1 = {'a': 1, 'b': 2}\n",
    "dict2 = {'a': 1, 'b': 2}\n",
    "# 使用==操作符对比两个字典是否相同\n",
    "if dict1 == dict2:\n",
    "    print(\"字典相同\")  # 输出: '字典相同'\n",
    "else:\n",
    "    print(\"字典不同\")"
   ]
  },
  {
   "cell_type": "markdown",
   "id": "680d21f8",
   "metadata": {},
   "source": [
    "### 合并"
   ]
  },
  {
   "cell_type": "code",
   "execution_count": null,
   "id": "7c8c6976",
   "metadata": {},
   "outputs": [],
   "source": [
    "dict1 = {'a': 1, 'b': 2}\n",
    "dict2 = {'c': 3, 'd': 4}\n",
    "# 使用update方法将dict2的键值对插入到dict1中\n",
    "dict1.update(dict2)\n",
    "# 现在dict1就包含dict2的所有键值对\n",
    "print(dict1)  # 输出: {'a': 1, 'b': 2, 'c': 3, 'd': 4}"
   ]
  },
  {
   "cell_type": "markdown",
   "id": "46deff72",
   "metadata": {},
   "source": [
    "### 弹出随机键值对"
   ]
  },
  {
   "cell_type": "code",
   "execution_count": null,
   "id": "b38cfb67",
   "metadata": {},
   "outputs": [],
   "source": [
    "my_dict = {'a': 1, 'b': 2, 'c': 3}\n",
    "key, value = my_dict.popitem()\n",
    "print(key, value)  # 输出: 随机的一个键值对\n",
    "print(my_dict)"
   ]
  }
 ],
 "metadata": {},
 "nbformat": 4,
 "nbformat_minor": 5
}
