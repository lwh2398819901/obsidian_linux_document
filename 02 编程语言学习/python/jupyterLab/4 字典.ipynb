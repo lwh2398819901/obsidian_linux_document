{
 "cells": [
  {
   "cell_type": "markdown",
   "id": "98fc6dfd",
   "metadata": {},
   "source": [
    "## 增删改查\n",
    "### 创建字典"
   ]
  },
  {
   "cell_type": "code",
   "execution_count": null,
   "id": "9f4c3246",
   "metadata": {},
   "outputs": [],
   "source": [
    "my_dict = {}  # 空字典"
   ]
  },
  {
   "cell_type": "code",
   "execution_count": null,
   "id": "01ccb32e",
   "metadata": {},
   "outputs": [],
   "source": [
    "my_dict = {'name': 'John', 'age': 25}  # 创建带有初始键值对的字典b"
   ]
  },
  {
   "cell_type": "code",
   "execution_count": null,
   "id": "d3d368f2",
   "metadata": {},
   "outputs": [],
   "source": [
    "my_list = [1, 2, 3, 4, 5]\n",
    "my_dict = {x: x**2 for x in my_list}\n",
    "print(my_dict)  # 输出: {1: 1, 2: 4, 3: 9, 4: 16, 5: 25}"
   ]
  },
  {
   "cell_type": "markdown",
   "id": "a228362c",
   "metadata": {},
   "source": [
    "{1: 1, 2: 4, 3: 9, 4: 16, 5: 25}"
   ]
  },
  {
   "cell_type": "code",
   "execution_count": null,
   "id": "d121cae5",
   "metadata": {},
   "outputs": [],
   "source": [
    "keys = ['a', 'b', 'c']\n",
    "values = [1, 2, 3]\n",
    "my_dict = {k: v for k, v in zip(keys, values)}\n",
    "print(my_dict)  # 输出: {'a': 1, 'b': 2, 'c': 3}"
   ]
  },
  {
   "cell_type": "markdown",
   "id": "0adc9a5b",
   "metadata": {},
   "source": [
    "{'a': 1, 'b': 2, 'c': 3}\n",
    "### 增加 or 修改"
   ]
  },
  {
   "cell_type": "code",
   "execution_count": null,
   "id": "1de4d1e5",
   "metadata": {},
   "outputs": [],
   "source": [
    "my_dict={}\n",
    "my_dict['city'] = 'New York'\n",
    "print(my_dict)"
   ]
  },
  {
   "cell_type": "markdown",
   "id": "3732510b",
   "metadata": {},
   "source": [
    "{'city': 'New York'}\n",
    "### 删除"
   ]
  },
  {
   "cell_type": "code",
   "execution_count": null,
   "id": "09e8a973",
   "metadata": {},
   "outputs": [],
   "source": [
    "my_dict = {'a': 1, 'b': 2, 'c': 3}\n",
    "del my_dict['a']\n",
    "print(my_dict)  # 输出: {'b': 2, 'c': 3}"
   ]
  },
  {
   "cell_type": "markdown",
   "id": "6e242b28",
   "metadata": {},
   "source": [
    "{'b': 2, 'c': 3}\n",
    "---\n",
    "清空"
   ]
  },
  {
   "cell_type": "code",
   "execution_count": null,
   "id": "356dc7a5",
   "metadata": {},
   "outputs": [],
   "source": [
    "my_dict = {'a': 1, 'b': 2, 'c': 3}\n",
    "my_dict.clear()\n",
    "print(my_dict) "
   ]
  },
  {
   "cell_type": "markdown",
   "id": "b31834e4",
   "metadata": {},
   "source": [
    "{}\n",
    "### 查找"
   ]
  },
  {
   "cell_type": "code",
   "execution_count": null,
   "id": "fa080573",
   "metadata": {},
   "outputs": [],
   "source": [
    "# 获取所有key 和value 我本以为返回是list类型 没想到是dict_keys 和 dict_values\n",
    "my_dict = {'a': 1, 'b': 2, 'c': 3}\n",
    "keys = my_dict.keys()\n",
    "values = my_dict.values()\n",
    "print(keys)\n",
    "print(values)\n",
    "print(type(keys))\n",
    "print(type(values))"
   ]
  },
  {
   "cell_type": "markdown",
   "id": "c685cba5",
   "metadata": {},
   "source": [
    "dict_keys(['a', 'b', 'c'])\n",
    "    dict_values([1, 2, 3])\n",
    "    <class 'dict_keys'>\n",
    "    <class 'dict_values'>\n",
    "---\n",
    "判断 key 是否存在"
   ]
  },
  {
   "cell_type": "code",
   "execution_count": null,
   "id": "f0a71325",
   "metadata": {},
   "outputs": [],
   "source": [
    "if 'name' in my_dict:\n",
    "    print(\"存在\")"
   ]
  },
  {
   "cell_type": "markdown",
   "id": "1f7f2d78",
   "metadata": {},
   "source": [
    "---\n",
    "遍历"
   ]
  },
  {
   "cell_type": "code",
   "execution_count": null,
   "id": "eafb72ec",
   "metadata": {},
   "outputs": [],
   "source": [
    "for key, value in my_dict.items():\n",
    "    print(key, value)"
   ]
  },
  {
   "cell_type": "markdown",
   "id": "0b64eb6f",
   "metadata": {},
   "source": [
    "a 1\n",
    "    b 2\n",
    "    c 3\n",
    "---\n",
    "get 返回带有默认值"
   ]
  },
  {
   "cell_type": "code",
   "execution_count": null,
   "id": "b297afdd",
   "metadata": {},
   "outputs": [],
   "source": [
    "my_dict = {'a': 1, 'b': 2}\n",
    "value = my_dict.get('c', 0)  # 如果键'c'不存在，则返回默认值0\n",
    "print(value)  # 输出: 0"
   ]
  },
  {
   "cell_type": "markdown",
   "id": "1d8c742c",
   "metadata": {},
   "source": [
    "0\n",
    "## 操作\n",
    "### 有序字典"
   ]
  },
  {
   "cell_type": "code",
   "execution_count": null,
   "id": "d91d59bd",
   "metadata": {},
   "outputs": [],
   "source": [
    "from collections import OrderedDict\n",
    "# 创建一个空的有序字典\n",
    "my_dict = OrderedDict()\n",
    "# 插入键值对到特定位置\n",
    "my_dict['name'] = 'John'\n",
    "my_dict['age'] = 25\n",
    "my_dict['city'] = 'New York'\n",
    "my_dict['country'] = 'USA'\n",
    "# 将新的键值对插入到特定位置\n",
    "my_dict.update({'city': 'Chicago'}, at=1)\n",
    "print(my_dict)"
   ]
  },
  {
   "cell_type": "markdown",
   "id": "302eff3e",
   "metadata": {},
   "source": [
    "OrderedDict([('name', 'John'), ('age', 25), ('city', 'Chicago'), ('country', 'USA'), ('at', 1)])\n",
    "### 带默认值字典"
   ]
  },
  {
   "cell_type": "code",
   "execution_count": null,
   "id": "8bb0c44b",
   "metadata": {},
   "outputs": [],
   "source": [
    "from collections import defaultdict\n",
    "# 创建一个默认值为0的字典\n",
    "my_dict = defaultdict(int)\n",
    "print(my_dict['a'])  # 输出: 0"
   ]
  },
  {
   "cell_type": "markdown",
   "id": "38119362",
   "metadata": {},
   "source": [
    "0\n",
    "### 统计"
   ]
  },
  {
   "cell_type": "code",
   "execution_count": null,
   "id": "631284f3",
   "metadata": {},
   "outputs": [],
   "source": [
    "from collections import Counter\n",
    "my_list = ['apple', 'banana', 'apple', 'orange', 'banana', 'apple']\n",
    "my_dict = Counter(my_list)\n",
    "print(my_dict)  # 输出: Counter({'apple': 3, 'banana': 2, 'orange': 1})"
   ]
  },
  {
   "cell_type": "markdown",
   "id": "9d0a6263",
   "metadata": {},
   "source": [
    "Counter({'apple': 3, 'banana': 2, 'orange': 1})\n",
    "### 交集 并集 差集"
   ]
  },
  {
   "cell_type": "code",
   "execution_count": null,
   "id": "6f040853",
   "metadata": {},
   "outputs": [],
   "source": [
    "dict1 = {'a': 1, 'b': 2, 'c': 3}\n",
    "dict2 = {'b': 2, 'c': 4, 'd': 5}\n",
    "# 计算两个字典的交集\n",
    "intersection = {key: dict1[key] for key in dict1.keys() & dict2}\n",
    "# 计算两个字典的并集\n",
    "union = {**dict1, **dict2}\n",
    "# 计算两个字典的差集\n",
    "difference = {key: dict1[key] for key in dict1.keys() - dict2}\n",
    "print(intersection)  # 输出: {'b': 2, 'c': 3}\n",
    "print(union)  # 输出: {'a': 1, 'b': 2, 'c': 4, 'd': 5}\n",
    "print(difference)  # 输出: {'a': 1}"
   ]
  },
  {
   "cell_type": "markdown",
   "id": "2e5efa82",
   "metadata": {},
   "source": [
    "{'c': 3, 'b': 2}\n",
    "    {'a': 1, 'b': 2, 'c': 4, 'd': 5}\n",
    "    {'a': 1}\n",
    "### 判断"
   ]
  },
  {
   "cell_type": "code",
   "execution_count": null,
   "id": "654f42dc",
   "metadata": {},
   "outputs": [],
   "source": [
    "dict1 = {'a': 1, 'b': 2}\n",
    "dict2 = {'a': 1, 'b': 2}\n",
    "# 使用==操作符对比两个字典是否相同\n",
    "if dict1 == dict2:\n",
    "    print(\"字典相同\")  # 输出: '字典相同'\n",
    "else:\n",
    "    print(\"字典不同\")"
   ]
  },
  {
   "cell_type": "markdown",
   "id": "61ab33cf",
   "metadata": {},
   "source": [
    "字典相同\n",
    "### 合并"
   ]
  },
  {
   "cell_type": "code",
   "execution_count": null,
   "id": "e82b0b4e",
   "metadata": {},
   "outputs": [],
   "source": [
    "dict1 = {'a': 1, 'b': 2}\n",
    "dict2 = {'c': 3, 'd': 4}\n",
    "# 使用update方法将dict2的键值对插入到dict1中\n",
    "dict1.update(dict2)\n",
    "# 现在dict1就包含dict2的所有键值对\n",
    "print(dict1)  # 输出: {'a': 1, 'b': 2, 'c': 3, 'd': 4}"
   ]
  },
  {
   "cell_type": "markdown",
   "id": "a2ccb70a",
   "metadata": {},
   "source": [
    "{'a': 1, 'b': 2, 'c': 3, 'd': 4}\n",
    "### 弹出随机键值对"
   ]
  },
  {
   "cell_type": "code",
   "execution_count": null,
   "id": "7df717c9",
   "metadata": {},
   "outputs": [],
   "source": [
    "my_dict = {'a': 1, 'b': 2, 'c': 3}\n",
    "key, value = my_dict.popitem()\n",
    "print(key, value)  # 输出: 随机的一个键值对\n",
    "print(my_dict)"
   ]
  },
  {
   "cell_type": "markdown",
   "id": "d63c027f",
   "metadata": {},
   "source": [
    "c 3\n",
    "    {'a': 1, 'b': 2}"
   ]
  }
 ],
 "metadata": {},
 "nbformat": 4,
 "nbformat_minor": 5
}
