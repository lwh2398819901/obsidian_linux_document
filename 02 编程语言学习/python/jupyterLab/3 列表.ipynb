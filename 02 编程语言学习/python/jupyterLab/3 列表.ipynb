{
 "cells": [
  {
   "cell_type": "markdown",
   "id": "f89f627b",
   "metadata": {},
   "source": [
    "列表（list）由⼀系列按特定顺序排列的元素组成。你不仅可以创建包含字⺟表中所有字⺟、数字 0〜9 或所有家庭成员姓名的列表，还可以将任何东⻄加⼊列表，其中的元素之间可以没有任何关系。列表通常包含多个元素，因此给列表指定⼀个表⽰复数的名称（如 letters、digits 或names）是个不错的主意。\n",
    "\n",
    "在 Python 中，⽤⽅括号（[]）表⽰列表，⽤逗号分隔其中的元素。下⾯是⼀个简单的⽰例，其中包含⼏种⾃⾏⻋："
   ]
  },
  {
   "cell_type": "code",
   "execution_count": null,
   "id": "8230e973",
   "metadata": {},
   "outputs": [],
   "source": [
    "bicycles = ['trek', 'cannondale', 'redline', 'specialized']\n",
    "print(bicycles)"
   ]
  },
  {
   "cell_type": "markdown",
   "id": "f283708a",
   "metadata": {},
   "source": [
    "## 3.1 访问列表\n",
    "\n",
    "### 赋值\n",
    "\n",
    "---\n",
    "\n",
    "\n",
    "\n",
    "```python\n",
    "a=1\n",
    "b=\"123\"\n",
    "c=1.01\n",
    "d=[1,2,3,4]\n",
    "e=(\"aaa\",a)\n",
    "f={\"14\":\"14\",\"13\":13,15:\"15\"}\n",
    "g = {\"a\", \"b\", \"c\", \"d\", \"e\"}\n",
    "\n",
    "\n",
    "x,y,z=1,\"2aaa\",[\"aaa\",\"bb\"]  \n",
    "print(x)  \n",
    "print(y)  \n",
    "print(z)  \n",
    "```"
   ]
  }
 ],
 "metadata": {},
 "nbformat": 4,
 "nbformat_minor": 5
}
