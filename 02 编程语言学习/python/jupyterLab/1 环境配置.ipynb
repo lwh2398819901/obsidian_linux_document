{
 "cells": [
  {
   "cell_type": "markdown",
   "id": "c724dcef",
   "metadata": {},
   "source": [
    "首先解释一下 我对于python是一个纯粹的小白，所以我打算从最基础的学习\n",
    "\n",
    "## 什么是python解释器\n",
    "Python解释器是一种程序，它能够读取和执行Python代码。当你编写Python代码时，你实际上是在编写Python解释器能够理解和执行的指令。Python解释器可以逐行解释代码并将其转换成计算机可执行的机器码，从而实现代码的执行。\n",
    "\n",
    "Python解释器有多种实现方式，最常见的是官方的CPython解释器，它是用C语言编写的。此外，还有其他实现方式，如Jython（用Java编写）、IronPython（用C#编写）等。这些不同的Python解释器实现可以在不同的平台上运行，使得Python成为一个跨平台的编程语言。\n",
    "\n",
    "Python解释器还提供了交互式的解释模式，可以让用户一行一行地输入代码并立即看到结果。这种交互式的特性使得Python解释器成为了学习和测试代码的理想工具。\n",
    "\n",
    "总之，Python解释器是Python语言的实际执行引擎，它使得我们能够编写并运行Python代码，从而实现各种各样的功能和应用。\n",
    "\n",
    "官方地址 :[Welcome to Python.org](https://www.python.org/)\n",
    "\n",
    "\n",
    "\n",
    "### 安装\n",
    "[Download Python | Python.org](https://www.python.org/downloads/)\n",
    "\n",
    "\n",
    "根据操作系统 选择相应的版本，请忽略图片上箭头的具体指向，我并没有刻意指哪一个版本或者下载包。\n",
    "\n",
    "目前看 windows和mac版本都是提供可执行程序，应该可以通过双击正常的下一步下一步安装，（我没有用过mac 这里是猜测）linux提供的是源码，需要手动编译。\n",
    "\n",
    "**linux**\n",
    "![|800](附件/Pasted%20image%2020240304100830.png)\n",
    "\n",
    "下载gzip的源码编译包，其中有个README文件，重要的内容贴上来"
   ]
  },
  {
   "cell_type": "markdown",
   "id": "ac933cb0-6b15-4594-9896-b2e3dcc4a70d",
   "metadata": {
    "attributes": {
     "classes": [
      "text"
     ],
     "id": ""
    }
   },
   "source": [
    "要在Unix/Linux/BSD/macOS/Cygwin等平台上构建Python，可以按照以下步骤：\n",
    "\n",
    "1. 运行 `./configure`\n",
    "2. 执行 `make`\n",
    "3. 运行 `make test` 进行测试\n",
    "4. 使用 `sudo make install` 安装，安装后的Python版本会被命名为“python3”"
   ]
  },
  {
   "cell_type": "markdown",
   "id": "e53ca1da",
   "metadata": {},
   "source": [
    "<span style=\"background:#A0CCF6\">依次执行这些命令后，即可安装完成</span>\n",
    "\n",
    "**windows**\n",
    "![|725](附件/Pasted%20image%2020240304100748.png)\n",
    "**mac**\n",
    "![|725](附件/Pasted%20image%2020240304100817.png)\n",
    "## anaconda\n",
    "### 安装\n",
    "\n",
    "\n",
    "## pycharm\n",
    "### 安装\n",
    "\n",
    "## jupyterLab\n",
    "\n",
    "## anaconda+pycharm\n",
    "\n",
    "\n",
    "\n",
    "## 其他\n",
    "辅助本文档生成与安装  \n",
    "\n",
    "**notedown**"
   ]
  }
 ],
 "metadata": {
  "kernelspec": {
   "display_name": "Python 3 (ipykernel)",
   "language": "python",
   "name": "python3"
  },
  "language_info": {
   "codemirror_mode": {
    "name": "ipython",
    "version": 3
   },
   "file_extension": ".py",
   "mimetype": "text/x-python",
   "name": "python",
   "nbconvert_exporter": "python",
   "pygments_lexer": "ipython3",
   "version": "3.11.5"
  }
 },
 "nbformat": 4,
 "nbformat_minor": 5
}
