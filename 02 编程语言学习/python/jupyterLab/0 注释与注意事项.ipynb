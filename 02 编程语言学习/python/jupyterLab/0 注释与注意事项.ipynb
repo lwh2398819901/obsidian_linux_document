{
 "cells": [
  {
   "cell_type": "markdown",
   "id": "567f5347",
   "metadata": {},
   "source": [
    "## 注释"
   ]
  },
  {
   "cell_type": "code",
   "execution_count": null,
   "id": "c2b24953",
   "metadata": {},
   "outputs": [],
   "source": [
    "# 注释  \n",
    "\n",
    "'''  \n",
    "多行注释  \n",
    "'''  \n",
    "  \n",
    "\"\"\"  \n",
    "这也是多行注释  \n",
    "\"\"\"  \n",
    "  \n",
    "# 缩进 python使用缩进确定代码作用域 这点我不是很适应  \n",
    "# 比如下面这个例子  \n",
    "# a.不必要的缩进  \n",
    "message = \"test\"  \n",
    "#    print(message) 这句话会报错 因为缩进  ╮(╯▽╰)╭  \n",
    "# b.忘记缩进  \n",
    "testList = [1, 2, 3, 4]  \n",
    "for number in testList:  \n",
    "# print(number) 这句话会报错 因为没有缩进  ╮(╯▽╰)╭    print(number)  \n",
    "  \n",
    "# c.for循环中忘记缩进  \n",
    "for number in testList:  \n",
    "    print(number)  \n",
    "    print(\"打印了一个数字\")  \n",
    "# print(\"打印了一个数字\") 不会报错 但是预期不一样 会在for循环外打印"
   ]
  },
  {
   "cell_type": "markdown",
   "id": "7c582510",
   "metadata": {},
   "source": [
    "## 编写原则\n",
    "\n",
    "[Python 风格指南 - 内容目录 — Google 开源项目风格指南 (zh-google-styleguide.readthedocs.io)](https://zh-google-styleguide.readthedocs.io/en/latest/google-python-styleguide/contents/)\n",
    "\n",
    "\n",
    "<iframe src=\"https://zh-google-styleguide.readthedocs.io/en/latest/google-python-styleguide/contents/\" allow=\"fullscreen\" allowfullscreen=\"\" style=\"height:100%;width:100%; aspect-ratio: 16 / 9; \"></iframe>"
   ]
  }
 ],
 "metadata": {},
 "nbformat": 4,
 "nbformat_minor": 5
}
