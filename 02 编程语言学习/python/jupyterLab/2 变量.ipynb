{
 "cells": [
  {
   "cell_type": "markdown",
   "id": "28ba81f6",
   "metadata": {},
   "source": [
    "## python基础知识  \n",
    "### 通用的几个函数\n",
    "**id**：用于返回对象的<font color=#FF0000>唯一标识符</font>，这个标识符是一个整数，在对象的生命周期中保持不变。每个对象都有一个唯一的id，不同对象的id不会相同。\n",
    "\n",
    "**type**:返回<font color=#FF0000>对象的类型</font>。对象的类型指的是对象所属的类。 Python中的所有对象都有一个类型，包括数字、字符串、列表、函数等。type函数返回的是一个对象的类型，可以用于判断对象的类型或进行类型的比较。\n",
    "\n",
    "### 赋值"
   ]
  },
  {
   "cell_type": "code",
   "execution_count": null,
   "id": "dc135cb3",
   "metadata": {},
   "outputs": [],
   "source": [
    "a=1\n",
    "b=\"123\"\n",
    "c=1.01\n",
    "d=[1,2,3,4]\n",
    "e=(\"aaa\",a)\n",
    "f={\"14\":\"14\",\"13\":13,15:\"15\"}\n",
    "g = {\"a\", \"b\", \"c\", \"d\", \"e\"}\n",
    "\n",
    "\n",
    "x,y,z=1,\"2aaa\",[\"aaa\",\"bb\"]  \n",
    "print(x)  \n",
    "print(y)  \n",
    "print(z)  "
   ]
  },
  {
   "cell_type": "markdown",
   "id": "edb2c58a",
   "metadata": {},
   "source": [
    "### 数据类型\n",
    "\n",
    "Python常用的数据类型有6种：**数字(Number)、字符串(String)、列表(List)、元组(Tuple)、字典(Dictionary)、集合(Set)。**"
   ]
  },
  {
   "cell_type": "code",
   "execution_count": null,
   "id": "5b77e0e5",
   "metadata": {},
   "outputs": [],
   "source": [
    "# 打印对象类型  \n",
    "x = 5  \n",
    "print(\"x is: \", type(x))  \n",
    "  \n",
    "# 打印变量的内存地址  \n",
    "print(id(x))  \n",
    "  \n",
    "# 打印10种不同变量类型  \n",
    "print(type(5))  \n",
    "print(type(5.0))  \n",
    "print(type(5+3j))  \n",
    "print(type('5'))  \n",
    "print(type(True))  \n",
    "print(type([1, 2, 3]))  \n",
    "print(type((1, 2, 3)))  \n",
    "print(type({1, 2, 3}))  \n",
    "print(type({1: 2, 3: 4}))  \n",
    "print(type(None))  \n",
    "print(type(type(5)))"
   ]
  },
  {
   "cell_type": "markdown",
   "id": "4e7c2b74",
   "metadata": {},
   "source": [
    "#### 数字(Number)\n",
    "\n",
    "Python3支持4种数字类型：int、float、bool、complex.\n",
    "\n",
    "**整数(int)**：没有小数点的数，在程序中的表示方法和数学上的写法一样。"
   ]
  },
  {
   "cell_type": "code",
   "execution_count": null,
   "id": "d8dc677f",
   "metadata": {},
   "outputs": [],
   "source": [
    "i = 7 + 3\n",
    "print (i)  #10\n",
    "\n",
    "# + - * () 和正常数学运算一致  \n",
    "print(4+2)  \n",
    "print(4-2)  \n",
    "print(4*2)  \n",
    "print((4+2)*3)  \n",
    "  \n",
    "# ** 乘方 可以指定幂次  \n",
    "print(2**0)  \n",
    "print(2**1)  \n",
    "print(2**2)  \n",
    "print(2**3)  \n",
    "print(2**4)  \n",
    "print(2**5)  \n",
    "\n",
    "  \n",
    "# 数字中的下划线 3.6版本支持这样写数字  \n",
    "number = 14_000_000_000  \n",
    "print(number)  \n",
    "\n",
    "# 常量 python中没有常量  可以将变量名全部大写代表常量  \n",
    "MAX_NUMBER = 10000  \n",
    "  \n",
    "# 数字转字符串str()  \n",
    "message = \"this is \" + str(MAX_NUMBER) + \" max number\"  \n",
    "print(message)  "
   ]
  },
  {
   "cell_type": "markdown",
   "id": "03f3682c",
   "metadata": {},
   "source": [
    "**浮点(float)**：带小数点的数，可以用十进制表示，也可以用指数表示。"
   ]
  },
  {
   "cell_type": "code",
   "execution_count": null,
   "id": "b8524e63",
   "metadata": {},
   "outputs": [],
   "source": [
    "# 十进制\n",
    "i = 7 / 3\n",
    "print (i)  #2.3333333333333335\n",
    "# 指数\n",
    "i = 314e-2\n",
    "print (i)  #3.14\n",
    "\n",
    "# / 返回浮点数  //返回整数  \n",
    "print(4/2)  \n",
    "print(4//2)  \n",
    "  \n",
    "# 浮点数 操作数为浮点数 则结果一定为浮点数  \n",
    "print(4+2.0)  \n",
    "print(4-2.0)  \n",
    "print(4*2.0)  \n",
    "print((4+2)*3.0)  \n",
    "# / 浮点数  //浮点数  \n",
    "print(4/2.0)  \n",
    "print(4//2.0)  "
   ]
  },
  {
   "cell_type": "markdown",
   "id": "3dd018e0",
   "metadata": {},
   "source": [
    "**布尔值(bool)**：True与False(1和0)，反映条件的正确与否。"
   ]
  },
  {
   "cell_type": "code",
   "execution_count": null,
   "id": "e0d9a880",
   "metadata": {},
   "outputs": [],
   "source": [
    "print(8 > 7)  #True\n",
    "print(8 == 7)  #False\n",
    "print(8 < 7)  #False"
   ]
  },
  {
   "cell_type": "markdown",
   "id": "97f05e39",
   "metadata": {},
   "source": [
    "**复数(complex)**：复数由实数部分和虚数部分组成，一般形式为x+yj，其中x是复数的实数部分，y是复数的虚数部分，这里的x和y都是实数。 【高数知识 我不会】"
   ]
  },
  {
   "cell_type": "code",
   "execution_count": null,
   "id": "44192ae6",
   "metadata": {},
   "outputs": [],
   "source": [
    "c = 1.56-1.2j\n",
    "print(c)  #(1.56-1.2j)"
   ]
  },
  {
   "cell_type": "markdown",
   "id": "26e85117",
   "metadata": {},
   "source": [
    "#### 字符串(String)\n",
    "\n",
    "Python中凡是用引号引起来的数据（\" \" 、' ' 、''' '''或者\"\"\" \"\"\"），都可以称为字符串类型。组成字符串的每个元素称之为字符，将这些字符一个一个连接起来，然后在用引号起来就是字符串。"
   ]
  },
  {
   "cell_type": "code",
   "execution_count": null,
   "id": "9f7b1fcc",
   "metadata": {},
   "outputs": [],
   "source": [
    "message = \"hello world2\"  \n",
    "message2 = 'hello world2'\n",
    "message3 = \"\"\"hello world2\"\"\"\n",
    "message4 = '''hello world2'''\n",
    "\n",
    "print(message)\n",
    "print(message2)\n",
    "print(message3)\n",
    "print(message4)\n",
    "\n",
    "print(id(message))\n",
    "print(id(message2))\n",
    "print(id(message3))\n",
    "print(id(message4))"
   ]
  },
  {
   "cell_type": "markdown",
   "id": "0f3631f0",
   "metadata": {},
   "source": [
    "常见的字符串操作有：索引、切片、分隔、长度等。\n",
    "【这个字符串的操作确实太多了 没有人会记得所有的方法 也没有必要去记，当需要操作字符串的时候 可以通过查询来查找是否有更简单的方式，下面介绍必须掌握和知道的概念】\n",
    "\n",
    "**索引**：字符串组成的元素从第一个开始，初始索引为0以此类推。"
   ]
  },
  {
   "cell_type": "code",
   "execution_count": null,
   "id": "c795974e",
   "metadata": {},
   "outputs": [],
   "source": [
    "a = \"ABCDEFGHIJK\"  \n",
    "print(a[0])  # A  第一个\n",
    "print(a[3])  # D  \n",
    "print(a[5])  # F  \n",
    "print(a[7])  # H  \n",
    "print(a[-1])  # K  倒数第一个\n",
    "print(a[-2])  # J  倒数第二个\n",
    "  \n",
    "b = a[111] # 地址越界 会报错\n",
    "b = a[-111] # 地址越界 会报错"
   ]
  },
  {
   "cell_type": "markdown",
   "id": "099fb057",
   "metadata": {},
   "source": [
    "**长度**：查看字符串中的元素有多少个。"
   ]
  },
  {
   "cell_type": "code",
   "execution_count": null,
   "id": "46d3544d",
   "metadata": {},
   "outputs": [],
   "source": [
    "name = \"diaochewei\"\n",
    "print(len(name))  #10"
   ]
  },
  {
   "cell_type": "markdown",
   "id": "88d97cba",
   "metadata": {},
   "source": [
    "**切片**：通过索引截取字符串的一段，形成新的字符串。详情见列表的操作"
   ]
  },
  {
   "cell_type": "code",
   "execution_count": null,
   "id": "4625c843",
   "metadata": {},
   "outputs": [],
   "source": [
    "a = 'ABCDEFGHIJK'\n",
    "print(a[0:3])  #ABC\n",
    "print(a[0:5:1])  #ABCDE\n",
    "print(a[0:5:2])  #ACE\n",
    "print(type(a[0:5]))  #string 类型\n",
    "print(a[2:5])  #CDE"
   ]
  },
  {
   "cell_type": "markdown",
   "id": "a27ddf38",
   "metadata": {},
   "source": [
    "**分割**：通过字符串中某个符号，将字符串切片。"
   ]
  },
  {
   "cell_type": "code",
   "execution_count": null,
   "id": "cfb1bbfb",
   "metadata": {},
   "outputs": [],
   "source": [
    "s = \"aelxlaaa\"\n",
    "s1 = s.split(\"l\")\n",
    "print(s1)  #['ae', 'x', 'aaa']\n",
    "s2 = s.split(\"l\",1)\n",
    "print(s2)  #['ae', 'xlaaa']\n",
    "s3 = s.partition(\"l\")\n",
    "print(s3)  # ('ae', 'l', 'xlaaa')"
   ]
  },
  {
   "cell_type": "markdown",
   "id": "d8b27288",
   "metadata": {},
   "source": [
    "**其他操作**："
   ]
  },
  {
   "cell_type": "code",
   "execution_count": null,
   "id": "03fe76c7",
   "metadata": {},
   "outputs": [],
   "source": [
    "# 首字母大写  \n",
    "message = 'this is python'  \n",
    "print(message.title())  \n",
    "  \n",
    "# 字母大写  \n",
    "message = 'this is python'  \n",
    "print(message.upper())  \n",
    "  \n",
    "# 字母小写  \n",
    "message = 'THIS IS PYTHON'  \n",
    "print(message.lower())  \n",
    "  \n",
    "# 字符串中使用变量 3.6版本以上 相当于格式化 formatfirst = \"ada\"  \n",
    "last = \"bbbb\"  \n",
    "full = f'{first} {last}'  \n",
    "print(full)  \n",
    "  \n",
    "# 合并字符串 + 拼接  \n",
    "first = \"ada\"  \n",
    "last = \"bbbb\"  \n",
    "full = first+last  \n",
    "print(full)  \n",
    "  \n",
    "  \n",
    "# 转义字符  \n",
    "message = 'THIS\\n \\tIS \\n\\t\\tPYTHON'  \n",
    "print(message.lower())  \n",
    "  \n",
    "# 删除空白  \n",
    "message = ' THIS IS PYTHON '  \n",
    "print(f'###{message}###')  \n",
    "# 删除右面空白  \n",
    "print(f'###{message.rstrip()}###')  \n",
    "# 删除左面空白  \n",
    "print(f'###{message.lstrip()}###')  \n",
    "# 删除前后空白  \n",
    "print(f'###{message.strip()}###')  \n",
    "# 你会发现这些改变都没有作用到变量本身  \n",
    "print(f'###{message}###')  \n",
    "# 如果想要作用到变量本身则需要这样写  \n",
    "message = message.strip()  \n",
    "print(f'###{message}###')  \n",
    "  "
   ]
  },
  {
   "cell_type": "markdown",
   "id": "00b3e357",
   "metadata": {},
   "source": [
    "[python教程：15种字符串操作方法_python字符串的常用操作方法有-CSDN博客](https://blog.csdn.net/qdPython/article/details/124063345)\n",
    "\n",
    "<iframe src=\"https://blog.csdn.net/qdPython/article/details/124063345\" allow=\"fullscreen\" allowfullscreen=\"\" style=\"height: 100%; width: 100%; aspect-ratio: 16 / 9;\"></iframe>"
   ]
  },
  {
   "cell_type": "code",
   "execution_count": null,
   "id": "f1b10997",
   "metadata": {},
   "outputs": [],
   "source": [
    "\n",
    "# 关于变量的一点奇怪  \n",
    "'''  \n",
    "Python变量保存的是值的引用 也可以说：变量是对内存及其地址的抽象  \n",
    "Python：一切变量都是对象  \n",
    "变量的存储，采用了引用语义的方式，存储的只是一个变量的值所在的内存地址，而不是这个变量的值本身  \n",
    "  \n",
    "采用这种方式：变量所需的存储空间大小一致，因为变量只是保存了一个引用。也被称为对象语义和指针语义。  \n",
    "变量的每一次初始化，都开辟了一个新的空间，将新内容的地址赋值给变量  \n",
    "  \n",
    "值语义：有些语言采用的不是这种方式，它们把变量的值直接保存在变量的存储区里，这种方式被我们称为值语义，例如C语言，  \n",
    "采用这种存储方式，每一个变量在内存中所占的空间就要根据变量实际的大小而定，比如 c中 int 一般为2个字节 而char为一个字节  \n",
    "'''  \n",
    "print(\"数字地址测试：begin\")  \n",
    "a = 10  \n",
    "b = a  \n",
    "'''  \n",
    "预备知识一----id函数  \n",
    "id函数：python的内置函数 id() 来查看对象的身份(identity)，这个所谓的身份其实就是 对象 的内存地址  \n",
    "就是获取对象在内存中的地址  \n",
    "'''  \n",
    "  \n",
    "print(id(a))  \n",
    "print(id(b))  \n",
    "'''  \n",
    "*预备知识二----对于变量的赋值  \n",
    "我们把不同的值赋给变量时候，变量指向的地址发生变化，但是相同的值地址不发生变化。  \n",
    "  \n",
    "*预备知识三----复杂的数据类型，列表，元组，字典等修改与赋值  \n",
    "对于这些复杂数据类型，如果修改其中某一项元素的值，或者添加几个元素，不会改变其本身的地址，只会改变其内部元素的地址引用，  \n",
    "但是如果对其进行重新赋值操作时，就会给列表重新赋予一个地址，来覆盖之前的地址这时列表地址会发生改变  \n",
    "  \n",
    "在Python中，对于不可变对象（例如整数、字符串、元组等），每次赋值确实会创建一个新的对象，并将变量绑定到这个新对象的地址。  \n",
    "这是因为不可变对象的值不可变，如果你修改了它，实际上是创建了一个新的对象。  \n",
    "  \n",
    "但是对于可变对象（例如列表、字典、集合等），情况略有不同。当你对可变对象进行赋值时，实际上是将变量绑定到同一个对象的引用，而不是创建一个新的对象。  \n",
    "如果你通过这个引用修改了对象的内容，其他引用该对象的变量也会反映这些修改，因为它们都引用的是同一个对象。  \n",
    "'''  \n",
    "  \n",
    "# 按照我的感受就是 python中的变量整的有些蒙，同样大小数据会指向同一个  \n",
    "#  \n",
    "b += 1  \n",
    "print(id(b))  \n",
    "  \n",
    "a1 = 11  \n",
    "b1 = 11  \n",
    "print(id(a1))  \n",
    "print(id(b1))  \n",
    "  \n",
    "c = 1111957  \n",
    "d = 1111957  \n",
    "print(id(c))  \n",
    "print(id(d))  \n",
    "listNumber = [1, c, d, \"aa\"]  \n",
    "listNumber[2] = 123  \n",
    "print(id(listNumber[2]))  \n",
    "print(\"数字地址测试：end\")  \n",
    "  \n",
    "list1 = [1, 2, 3, \"aa\"]  \n",
    "list2 = list1  \n",
    "list3 = list1[:] # 切片 后续见learn3中列表 切片操作  \n",
    "list4 = copy.copy(list1) # 浅拷贝  \n",
    "list5 = copy.deepcopy(list1) # 深拷贝  \n",
    "list6 = list1.copy()  \n",
    "print(\"list1:\" + str(id(list1)))  \n",
    "print(\"list2:\" + str(id(list2)))  \n",
    "print(\"list3:\" + str(id(list3)))  \n",
    "print(\"list4:\" + str(id(list4)))  \n",
    "print(\"list5:\" + str(id(list5)))  \n",
    "print(\"list6:\" + str(id(list6)))  \n",
    "  \n",
    "list1.append(\"bb\")  \n",
    "print(list2)"
   ]
  }
 ],
 "metadata": {},
 "nbformat": 4,
 "nbformat_minor": 5
}
