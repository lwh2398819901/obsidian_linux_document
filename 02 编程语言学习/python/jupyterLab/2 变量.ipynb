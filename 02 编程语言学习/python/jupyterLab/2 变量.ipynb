{
 "cells": [
  {
   "cell_type": "markdown",
   "id": "37b3aada",
   "metadata": {},
   "source": [
    "## 通用函数\n",
    "\n",
    "**id**：用于返回对象的<font color=#FF0000>唯一标识符</font>，这个标识符是一个整数，在对象的生命周期中保持不变。每个对象都有一个唯一的 id，不同对象的 id 不会相同。\n",
    "\n",
    "其实就是获取对象在内存中的地址"
   ]
  },
  {
   "cell_type": "code",
   "execution_count": null,
   "id": "da9b5686",
   "metadata": {},
   "outputs": [],
   "source": [
    "a = 10\n",
    "print(id(a))"
   ]
  },
  {
   "cell_type": "markdown",
   "id": "c4e18d6a",
   "metadata": {},
   "source": [
    "**type**:返回<font color=#FF0000>对象的类型</font>。对象的类型指的是对象所属的类。 Python中的所有对象都有一个类型，包括数字、字符串、列表、函数等。type函数返回的是一个对象的类型，可以用于判断对象的类型或进行类型的比较。"
   ]
  },
  {
   "cell_type": "code",
   "execution_count": null,
   "id": "e64fefd7",
   "metadata": {},
   "outputs": [],
   "source": [
    "print(type(5))\n",
    "print(type(5.0))\n",
    "print(type(5+3j))\n",
    "print(type('5'))\n",
    "print(type(True))\n",
    "print(type([1, 2, 3]))\n",
    "print(type((1, 2, 3)))\n",
    "print(type({1, 2, 3}))\n",
    "print(type({1: 2, 3: 4}))\n",
    "print(type(None))\n",
    "print(type(type(5)))"
   ]
  },
  {
   "cell_type": "markdown",
   "id": "8619fa58",
   "metadata": {},
   "source": [
    "## 变量的地址\n",
    "\n",
    "-  **基础类型变量的赋值**  \n",
    "我们把不同的值赋给变量时候，变量指向的地址发生变化，但是相同的值地址不发生变化。  \n",
    "  \n",
    "- **复杂的数据类型，列表，元组，字典等修改与赋值**  \n",
    "对于这些复杂数据类型，如果修改其中某一项元素的值，或者添加几个元素，<font color=\"#ff0000\">不会改变其本身的地址，只会改变其内部元素的地址引用</font>，\n",
    "但是如果对其进行<font color=\"#ff0000\">重新赋值</font>操作时，就会给列表重新赋予一个地址，来覆盖之前的地址这时列表地址会发生改变\n",
    "在Python 中，对于不可变对象（例如整数、字符串、元组等），<font color=\"#ff0000\">每次赋值会创建一个新的对象，并将变量绑定到这个新对象的地址。  </font>\n",
    "<span style=\"background:#b1ffff\">这是因为不可变对象的值不可变，如果你修改了它，实际上是创建了一个新的对象。  </span>\n",
    "但是对于可变对象（例如列表、字典、集合等），情况略有不同。当你对<font color=\"#ff0000\">可变对象进行赋值</font>时，实际上是将<font color=\"#ff0000\">变量绑定到同一个对象的引用</font>，而不是创建一个新的对象。  \n",
    "如果你通过这个引用修改了对象的内容，其他引用该对象的变量也会反映这些修改，因为它们都引用的是同一个对象。  \n",
    "\n",
    "可以看到 这些变量都指向了同一个地址"
   ]
  },
  {
   "cell_type": "code",
   "execution_count": null,
   "id": "d670b25d",
   "metadata": {},
   "outputs": [],
   "source": [
    "a = 10\n",
    "b = 10 \n",
    "c = a \n",
    "print (id (a))\n",
    "print (id (b))\n",
    "print (id (c))"
   ]
  },
  {
   "cell_type": "markdown",
   "id": "22d8d0d3",
   "metadata": {},
   "source": [
    "修改变量后 再次查看地址"
   ]
  },
  {
   "cell_type": "code",
   "execution_count": null,
   "id": "2d86c0df",
   "metadata": {},
   "outputs": [],
   "source": [
    "a = 11\n",
    "print(id(a))\n",
    "print(id(b))\n",
    "print(id(c))"
   ]
  },
  {
   "cell_type": "markdown",
   "id": "dc5b488e",
   "metadata": {},
   "source": [
    "可以看到 a 的地址和 b、c 已经不同，这是因为<font color=\"#ff0000\">python 中的对象不是直接存储数据，而是类似 c++指针一样指向一个存储位置</font>\n",
    "\n",
    "这样的好处是 所有的变量大小都是固定的（一个指针大小），相同的数据将放在同一个位置，不同的指针指向这个位置\n",
    "\n",
    "<span style=\"background:rgba(240, 200, 0, 0.2)\">当修改数据的时候，并没有改这个位置的内容，而是新建了一个地址后，指向别的位置</span>\n",
    "\n",
    "所以，python中没有变量++这种操作\n",
    "\n",
    "单独运行下面这段代码可以明显看出来，变量的地址是一直在更新的返回"
   ]
  },
  {
   "cell_type": "code",
   "execution_count": null,
   "id": "704024f5",
   "metadata": {},
   "outputs": [],
   "source": [
    "a+=1\n",
    "print(a)\n",
    "print(id(a))"
   ]
  },
  {
   "cell_type": "markdown",
   "id": "515b6456",
   "metadata": {},
   "source": [
    "## 基础语法\n",
    "\n",
    "### 比较运算"
   ]
  },
  {
   "cell_type": "code",
   "execution_count": null,
   "id": "58d471fc",
   "metadata": {},
   "outputs": [],
   "source": [
    "a = 5\n",
    "b = 10\n",
    "\n",
    "# 相等运算符（==）\n",
    "print(a == b)  # False\n",
    "print(a == 5)  # True\n",
    "\n",
    "# 不等运算符（!=）\n",
    "print(a != b)  # True\n",
    "print(a != 5)  # False\n",
    "\n",
    "# 大于运算符（>）\n",
    "print(a > b)  # False\n",
    "print(b > a)  # True\n",
    "\n",
    "# 大于等于运算符（>=）\n",
    "print(a >= b)  # False\n",
    "print(b >= a)  # True\n",
    "\n",
    "# 小于运算符（<）\n",
    "print(a < b)  # True\n",
    "print(b < a)  # False\n",
    "\n",
    "# 小于等于运算符（<=）\n",
    "print(a <= b)  # True\n",
    "\n",
    "print(b <= a)  # False"
   ]
  },
  {
   "cell_type": "markdown",
   "id": "d8ab6124",
   "metadata": {},
   "source": [
    "### and , or , in ,not in"
   ]
  },
  {
   "cell_type": "code",
   "execution_count": null,
   "id": "9a560ecd",
   "metadata": {},
   "outputs": [],
   "source": [
    "# and 运算符示例\n",
    "a = 5\n",
    "b = 10\n",
    "c = 3\n",
    "\n",
    "# 使用 and 运算符判断两个条件是否都为 True\n",
    "if a < b and b > c:\n",
    "    print(\"两个条件都为真。\")\n",
    "\n",
    "# or 运算符示例\n",
    "x = 4\n",
    "y = 2\n",
    "z = 6\n",
    "\n",
    "# 使用 or 运算符判断两个条件是否其中一个为 True\n",
    "if x > y or z > y:\n",
    "    print(\"至少有一个条件为真。\")\n",
    "\n",
    "# in 运算符示例\n",
    "my_list = [1, 2, 3, 4, 5]\n",
    "\n",
    "# 使用 in 运算符检查值是否在列表中\n",
    "if 3 in my_list:\n",
    "    print(\"值 3 在列表中。\")\n",
    "\n",
    "# not in 运算符示例\n",
    "my_list = [1, 2, 3, 4, 5]\n",
    "\n",
    "# 使用 not in 运算符判断值是否不在列表中\n",
    "if 6 not in my_list:\n",
    "    print(\"值 6 不在列表中。\")\n",
    "\n",
    "my_tuple = (1, 2, 3, 4)\n",
    "\n",
    "# 使用 not in 运算符判断值是否不在元组中\n",
    "if 5 not in my_tuple:\n",
    "    print(\"值 5 不在元组中。\")\n",
    "\n",
    "my_dict = {'a': 1, 'b': 2, 'c': 3}\n",
    "\n",
    "# 使用 not in 运算符判断键是否不在字典中\n",
    "if 'd' not in my_dict:\n",
    "    print(\"键 'd' 不在字典中。\")\n",
    "\n",
    "my_string = \"Hello, World!\"\n",
    "\n",
    "# 使用 not in 运算符判断子字符串是否不在字符串中\n",
    "if \"Python\" not in my_string:\n",
    "    print(\"子字符串 'Python' 不在字符串中。\")"
   ]
  },
  {
   "cell_type": "markdown",
   "id": "2ccd7963",
   "metadata": {},
   "source": [
    "### for 循环\n",
    "在 Python 中，for 循环用于迭代一个序列（比如列表、元组等）或其他可迭代对象的元素。for 循环的基本语法结构如下："
   ]
  },
  {
   "cell_type": "code",
   "execution_count": null,
   "id": "6afffdad",
   "metadata": {},
   "outputs": [],
   "source": [
    "for 变量 in 可迭代对象:\n",
    "    # 执行语句"
   ]
  },
  {
   "cell_type": "code",
   "execution_count": null,
   "id": "0cd00852",
   "metadata": {},
   "outputs": [],
   "source": [
    "fruits = [\"apple\", \"banana\", \"cherry\"]\n",
    "for fruit in fruits:\n",
    "    print(fruit)"
   ]
  },
  {
   "cell_type": "code",
   "execution_count": null,
   "id": "c96c41c4",
   "metadata": {},
   "outputs": [],
   "source": [
    "tup = (1, 2, 3)\n",
    "for num in tup:\n",
    "    print(num)"
   ]
  },
  {
   "cell_type": "code",
   "execution_count": null,
   "id": "bd9468da",
   "metadata": {},
   "outputs": [],
   "source": [
    "# 迭代字典的键和值\n",
    "dict = {\"name\": \"Alice\", \"age\": 25}\n",
    "for key, value in dict.items():\n",
    "    print(f\"{key}: {value}\")"
   ]
  },
  {
   "cell_type": "code",
   "execution_count": null,
   "id": "6fab9852",
   "metadata": {},
   "outputs": [],
   "source": [
    "for char in \"hello\":\n",
    "    print(char)"
   ]
  },
  {
   "cell_type": "markdown",
   "id": "2117eeee",
   "metadata": {},
   "source": [
    "### if , while\n",
    "\n",
    "更c语言不一样，这些条件都没有使用（条件）这样包起来，反而后面都有冒号 for 循环也有冒号"
   ]
  },
  {
   "cell_type": "code",
   "execution_count": null,
   "id": "b60a124a",
   "metadata": {},
   "outputs": [],
   "source": [
    "# if 语句示例\n",
    "x = 5\n",
    "\n",
    "if x > 0:\n",
    "    print(\"x 是正数。\")\n",
    "elif x < 0:\n",
    "    print(\"x 是负数。\")\n",
    "else:\n",
    "    print(\"x 是零。\")\n",
    "\n",
    "# while 循环示例\n",
    "count = 0\n",
    "\n",
    "while count < 5:\n",
    "    print(\"count 的值为:\", count)\n",
    "    count += 1\n",
    "\n",
    "print(\"循环结束。\")"
   ]
  },
  {
   "cell_type": "markdown",
   "id": "2856ff84",
   "metadata": {},
   "source": [
    "## 数据类型\n",
    "\n",
    "Python常用的数据类型有6种：**数字(Number)、字符串(String)、列表(List)、元组(Tuple)、字典(Dictionary)、集合(Set)。**\n",
    "### 数字(Number)\n",
    "\n",
    "Python3支持4种数字类型：int、float、bool、complex.\n",
    "\n",
    "**整数(int)**：没有小数点的数，在程序中的表示方法和数学上的写法一样。"
   ]
  },
  {
   "cell_type": "code",
   "execution_count": null,
   "id": "7dd10b4a",
   "metadata": {},
   "outputs": [],
   "source": [
    "i = 7 + 3\n",
    "print (i)  #10\n",
    "\n",
    "# + - * () 和正常数学运算一致  \n",
    "print(4+2)  \n",
    "print(4-2)  \n",
    "print(4*2)  \n",
    "print((4+2)*3)  \n",
    "  \n",
    "# ** 乘方 可以指定幂次  \n",
    "print(2**0)  \n",
    "print(2**1)  \n",
    "print(2**2)  \n",
    "print(2**3)  \n",
    "print(2**4)  \n",
    "print(2**5)  \n",
    "\n",
    "  \n",
    "# 数字中的下划线 3.6版本支持这样写数字  \n",
    "number = 14_000_000_000  \n",
    "print(number)  \n",
    "\n",
    "# 常量 python中没有常量  可以将变量名全部大写代表常量  \n",
    "MAX_NUMBER = 10000  \n",
    "  \n",
    "# 数字转字符串str()  \n",
    "message = \"this is \" + str(MAX_NUMBER) + \" max number\"  \n",
    "print(message)  "
   ]
  },
  {
   "cell_type": "markdown",
   "id": "c0f293e0",
   "metadata": {},
   "source": [
    "**浮点(float)**：带小数点的数，可以用十进制表示，也可以用指数表示。"
   ]
  },
  {
   "cell_type": "code",
   "execution_count": null,
   "id": "36de4a17",
   "metadata": {},
   "outputs": [],
   "source": [
    "# 十进制\n",
    "i = 7 / 3\n",
    "print (i)  #2.3333333333333335\n",
    "# 指数\n",
    "i = 314e-2\n",
    "print (i)  #3.14\n",
    "\n",
    "# / 返回浮点数  //返回整数  \n",
    "print(4/2)  \n",
    "print(4//2)  \n",
    "  \n",
    "# 浮点数 操作数为浮点数 则结果一定为浮点数  \n",
    "print(4+2.0)  \n",
    "print(4-2.0)  \n",
    "print(4*2.0)  \n",
    "print((4+2)*3.0)  \n",
    "# / 浮点数  //浮点数  \n",
    "print(4/2.0)  \n",
    "print(4//2.0)  "
   ]
  },
  {
   "cell_type": "markdown",
   "id": "ec3f188d",
   "metadata": {},
   "source": [
    "**布尔值(bool)**：True与False(1和0)，反映条件的正确与否。"
   ]
  },
  {
   "cell_type": "code",
   "execution_count": null,
   "id": "6a3497aa",
   "metadata": {},
   "outputs": [],
   "source": [
    "a = 5\n",
    "b = 10\n",
    "\n",
    "# 相等运算符（==）\n",
    "print(a == b)  # False\n",
    "print(a == 5)  # True"
   ]
  },
  {
   "cell_type": "markdown",
   "id": "3d310648",
   "metadata": {},
   "source": [
    "**复数(complex)**：复数由实数部分和虚数部分组成，一般形式为x+yj，其中x是复数的实数部分，y是复数的虚数部分，这里的x和y都是实数。 【高数知识 我不会】"
   ]
  },
  {
   "cell_type": "code",
   "execution_count": null,
   "id": "3d200763",
   "metadata": {},
   "outputs": [],
   "source": [
    "c = 1.56-1.2j\n",
    "print(c)  #(1.56-1.2j)"
   ]
  },
  {
   "cell_type": "markdown",
   "id": "d470a5db",
   "metadata": {},
   "source": [
    "### 字符串(String)\n",
    "\n",
    "Python中凡是用引号引起来的数据（\" \" 、' ' 、''' '''或者\"\"\" \"\"\"），都可以称为字符串类型。组成字符串的每个元素称之为字符，将这些字符一个一个连接起来，然后在用引号起来就是字符串。"
   ]
  },
  {
   "cell_type": "code",
   "execution_count": null,
   "id": "d8c2437e",
   "metadata": {},
   "outputs": [],
   "source": [
    "message = \"hello world2\"  \n",
    "message2 = 'hello world2'\n",
    "message3 = \"\"\"hello world2\"\"\"\n",
    "message4 = '''hello world2'''\n",
    "\n",
    "print(message)\n",
    "print(message2)\n",
    "print(message3)\n",
    "print(message4)\n",
    "\n",
    "print(id(message))\n",
    "print(id(message2))\n",
    "print(id(message3))\n",
    "print(id(message4))"
   ]
  },
  {
   "cell_type": "markdown",
   "id": "e7853ea2",
   "metadata": {},
   "source": [
    "常见的字符串操作有：索引、切片、分隔、长度等。\n",
    "【这个字符串的操作确实太多了 没有人会记得所有的方法 也没有必要去记，当需要操作字符串的时候 可以通过查询来查找是否有更简单的方式，下面介绍必须掌握和知道的概念】\n",
    "\n",
    "**索引**：字符串组成的元素从第一个开始，初始索引为0以此类推。"
   ]
  },
  {
   "cell_type": "code",
   "execution_count": null,
   "id": "92b983b8",
   "metadata": {},
   "outputs": [],
   "source": [
    "a = \"ABCDEFGHIJK\"  \n",
    "print(a[0])  # A  第一个\n",
    "print(a[3])  # D  \n",
    "print(a[5])  # F  \n",
    "print(a[7])  # H  \n",
    "print(a[-1])  # K  倒数第一个\n",
    "print(a[-2])  # J  倒数第二个\n",
    "  \n",
    "b = a[111] # 地址越界 会报错\n",
    "b = a[-111] # 地址越界 会报错"
   ]
  },
  {
   "cell_type": "markdown",
   "id": "a3ebbda8",
   "metadata": {},
   "source": [
    "**长度**：查看字符串中的元素有多少个。"
   ]
  },
  {
   "cell_type": "code",
   "execution_count": null,
   "id": "825771b5",
   "metadata": {},
   "outputs": [],
   "source": [
    "name = \"diaochewei\"\n",
    "print(len(name))  #10"
   ]
  },
  {
   "cell_type": "markdown",
   "id": "ce5ef685",
   "metadata": {},
   "source": [
    "**切片**：通过索引截取字符串的一段，形成新的字符串。详情见列表的操作"
   ]
  },
  {
   "cell_type": "code",
   "execution_count": null,
   "id": "c7f2a086",
   "metadata": {},
   "outputs": [],
   "source": [
    "a = 'ABCDEFGHIJK'\n",
    "print(a[0:3])  #ABC\n",
    "print(a[0:5:1])  #ABCDE\n",
    "print(a[0:5:2])  #ACE\n",
    "print(type(a[0:5]))  #string 类型\n",
    "print(a[2:5])  #CDE"
   ]
  },
  {
   "cell_type": "markdown",
   "id": "e2314c96",
   "metadata": {},
   "source": [
    "**分割**：通过字符串中某个符号，将字符串切片。"
   ]
  },
  {
   "cell_type": "code",
   "execution_count": null,
   "id": "255b38ed",
   "metadata": {},
   "outputs": [],
   "source": [
    "s = \"aelxlaaa\"\n",
    "s1 = s.split(\"l\")\n",
    "print(s1)  #['ae', 'x', 'aaa']\n",
    "s2 = s.split(\"l\",1)\n",
    "print(s2)  #['ae', 'xlaaa']\n",
    "s3 = s.partition(\"l\")\n",
    "print(s3)  # ('ae', 'l', 'xlaaa')"
   ]
  },
  {
   "cell_type": "markdown",
   "id": "4819467a",
   "metadata": {},
   "source": [
    "**其他操作**："
   ]
  },
  {
   "cell_type": "code",
   "execution_count": null,
   "id": "eb4079ea",
   "metadata": {},
   "outputs": [],
   "source": [
    "# 首字母大写  \n",
    "message = 'this is python'  \n",
    "print(message.title())  \n",
    "  \n",
    "# 字母大写  \n",
    "message = 'this is python'  \n",
    "print(message.upper())  \n",
    "  \n",
    "# 字母小写  \n",
    "message = 'THIS IS PYTHON'  \n",
    "print(message.lower())  \n",
    "  \n",
    "# 字符串中使用变量 3.6版本以上 相当于格式化 format\n",
    "first = \"ada\"  \n",
    "last = \"bbbb\"  \n",
    "full = f'{first} {last}'  \n",
    "print(full)  \n",
    "  \n",
    "# 合并字符串 + 拼接  \n",
    "first = \"ada\"  \n",
    "last = \"bbbb\"  \n",
    "full = first+last  \n",
    "print(full)  \n",
    "  \n",
    "  \n",
    "# 转义字符  \n",
    "message = 'THIS\\n \\tIS \\n\\t\\tPYTHON'  \n",
    "print(message.lower())  \n",
    "  \n",
    "# 删除空白  \n",
    "message = ' THIS IS PYTHON '  \n",
    "print(f'###{message}###')  \n",
    "# 删除右面空白  \n",
    "print(f'###{message.rstrip()}###')  \n",
    "# 删除左面空白  \n",
    "print(f'###{message.lstrip()}###')  \n",
    "# 删除前后空白  \n",
    "print(f'###{message.strip()}###')  \n",
    "# 你会发现这些改变都没有作用到变量本身  \n",
    "print(f'###{message}###')  \n",
    "# 如果想要作用到变量本身则需要这样写  \n",
    "message = message.strip()  \n",
    "print(f'###{message}###')  \n",
    "  "
   ]
  },
  {
   "cell_type": "markdown",
   "id": "1e77ffc3",
   "metadata": {},
   "source": [
    "扩展阅读:  [python教程：15种字符串操作方法](https://blog.csdn.net/qdPython/article/details/124063345)"
   ]
  }
 ],
 "metadata": {},
 "nbformat": 4,
 "nbformat_minor": 5
}
