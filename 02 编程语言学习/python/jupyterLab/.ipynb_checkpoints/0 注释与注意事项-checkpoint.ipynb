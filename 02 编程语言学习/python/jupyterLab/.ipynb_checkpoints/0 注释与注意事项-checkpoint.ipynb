{
 "cells": [
  {
   "cell_type": "markdown",
   "id": "c74bcfaa",
   "metadata": {},
   "source": [
    "## 注释"
   ]
  },
  {
   "cell_type": "code",
   "execution_count": null,
   "id": "8e803a70",
   "metadata": {},
   "outputs": [],
   "source": [
    "# 注释  \n",
    "\n",
    "'''  \n",
    "多行注释  \n",
    "'''  \n",
    "  \n",
    "\"\"\"  \n",
    "这也是多行注释  \n",
    "\"\"\"  \n",
    "  \n",
    "# 缩进 python使用缩进确定代码作用域 这点我不是很适应  \n",
    "# 比如下面这个例子  \n",
    "# a.不必要的缩进  \n",
    "message = \"test\"  \n",
    "#    print(message) 这句话会报错 因为缩进  ╮(╯▽╰)╭  \n",
    "# b.忘记缩进  \n",
    "testList = [1, 2, 3, 4]  \n",
    "for number in testList:  \n",
    "# print(number) 这句话会报错 因为没有缩进  ╮(╯▽╰)╭    print(number)  \n",
    "  \n",
    "# c.for循环中忘记缩进  \n",
    "for number in testList:  \n",
    "    print(number)  \n",
    "    print(\"打印了一个数字\")  \n",
    "# print(\"打印了一个数字\") 不会报错 但是预期不一样 会在for循环外打印"
   ]
  },
  {
   "cell_type": "markdown",
   "id": "8e0d1c80",
   "metadata": {},
   "source": [
    "## 编写原则\n",
    "[Google开源项目风格 — AK](https://zhl-python-style.readthedocs.io/zh/latest/intro.html)"
   ]
  }
 ],
 "metadata": {},
 "nbformat": 4,
 "nbformat_minor": 5
}
