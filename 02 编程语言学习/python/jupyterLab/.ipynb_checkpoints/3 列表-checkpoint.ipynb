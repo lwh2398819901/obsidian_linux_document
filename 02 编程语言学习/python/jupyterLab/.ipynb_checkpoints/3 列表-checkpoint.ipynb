{
 "cells": [
  {
   "cell_type": "markdown",
   "id": "040f4ef6",
   "metadata": {},
   "source": [
    "# 列表操作\n",
    "## 增删改查\n",
    "### 创建"
   ]
  },
  {
   "cell_type": "code",
   "execution_count": null,
   "id": "56c12a6e",
   "metadata": {},
   "outputs": [],
   "source": [
    "#创建空列表\n",
    "tmplist = []\n",
    "print(tmplist)\n",
    "print(id(tmplist))\n",
    "print(type(tmplist))\n",
    "#创建一个新列表 可以看到地址是不同的，所以 这种赋值方式不是在原有基础上改变，而是直接改了指向\n",
    "tmplist = [1,2,3] \n",
    "print(tmplist)\n",
    "print(id(tmplist))\n",
    "print(id(tmplist[0]))"
   ]
  },
  {
   "cell_type": "markdown",
   "id": "f88c2817",
   "metadata": {},
   "source": [
    "### 增加"
   ]
  },
  {
   "cell_type": "code",
   "execution_count": null,
   "id": "baa4ed0e",
   "metadata": {},
   "outputs": [],
   "source": [
    "# 追加元素\n",
    "tmplist = []\n",
    "tmplist.append(4)\n",
    "print(tmplist)\n",
    "print(id(tmplist))\n",
    "# 追加列表\n",
    "tmplist.extend([\"SQL\", \"C#\", \"Go\"])\n",
    "print(tmplist)"
   ]
  },
  {
   "cell_type": "code",
   "execution_count": null,
   "id": "dd98e37c",
   "metadata": {},
   "outputs": [],
   "source": [
    "# 插入元素\n",
    "tmplist = []\n",
    "tmplist.insert(0,0) \n",
    "print(tmplist)\n",
    "print(id(tmplist))\n",
    "tmplist.insert(0,10) \n",
    "print(tmplist)\n",
    "print(id(tmplist))\n",
    "# 可以实现从后往前插入 但是没办法指定最后一个， 因为-1是最后一个，这句话的意思是在最后一个人前插入一个数据  \n",
    "# 但是最后一个插入可以使用append啊\n",
    "tmplist.insert(-1,10) \n",
    "print(tmplist)\n",
    "print(id(tmplist))"
   ]
  },
  {
   "cell_type": "markdown",
   "id": "c7c32447",
   "metadata": {},
   "source": [
    "### 修改"
   ]
  },
  {
   "cell_type": "code",
   "execution_count": null,
   "id": "77abee76",
   "metadata": {},
   "outputs": [],
   "source": [
    "tmplist = [\"Python\", \"C++\", \"Java\", \"PHP\", \"Ruby\", \"MATLAB\"]\n",
    "tmplist[0] = tmplist[0].upper();\n",
    "print(tmplist)"
   ]
  },
  {
   "cell_type": "markdown",
   "id": "9a9c45bf",
   "metadata": {},
   "source": [
    "### 删除\n",
    "在 Python 列表中删除元素主要分为以下 3 种场景：\n",
    "- 根据目标元素所在位置的索引进行删除，可以使用 del 关键字或者 pop () 方法；\n",
    "- 根据元素本身的值进行删除，可使用 列表（list 类型）提供的 remove () 方法；\n",
    "- 将列表中所有元素全部删除，可使用 列表（list 类型）提供的 clear () 方法。\n",
    "---\n",
    "del：根据索引值删除元素\n",
    "del 是 Python 中的关键字，专门用来执行删除操作，它不仅可以删除整个列表，还可以删除列表中的某些元素。"
   ]
  },
  {
   "cell_type": "code",
   "execution_count": null,
   "id": "bfdca29a",
   "metadata": {},
   "outputs": [],
   "source": [
    "# 删除元素  del\n",
    "tmplist = [\"Python\", \"C++\", \"Java\", \"PHP\", \"Ruby\", \"MATLAB\"]\n",
    "del tmplist[2]\n",
    "print(tmplist)\n",
    "#使用负数索引 \n",
    "del tmplist[-2]\n",
    "print(tmplist)\n",
    "# 指定范围删除\n",
    "lang = [\"Python\", \"C++\", \"Java\", \"PHP\", \"Ruby\", \"MATLAB\"]\n",
    "print(lang)\n",
    "del lang[1: 4]\n",
    "print(lang)\n",
    "lang.extend([\"SQL\", \"C#\", \"Go\"])\n",
    "print(lang)\n",
    "del lang[-3: -1]  # 只能使用从左向右删除啊 不能写成[-1:-3]\n",
    "print(lang)\n",
    "# 删除列表\n",
    "tmplist = [1,2,3]\n",
    "del tmplist"
   ]
  },
  {
   "cell_type": "markdown",
   "id": "12370112",
   "metadata": {},
   "source": [
    "---\n",
    "pop 删除"
   ]
  },
  {
   "cell_type": "code",
   "execution_count": null,
   "id": "f34f0c18",
   "metadata": {},
   "outputs": [],
   "source": [
    "tmplist = [1,2,3]\n",
    "a = tmplist.pop(0)\n",
    "print(a)\n",
    "print(tmplist)"
   ]
  },
  {
   "cell_type": "markdown",
   "id": "baeeadba",
   "metadata": {},
   "source": [
    "---\n",
    "remove ()：根据元素值进行删除\n",
    "需要注意的是，remove () 方法只会删除第一个和指定值相同的元素，而且必须保证该元素是存在的，否则会引发 ValueError 错误。"
   ]
  },
  {
   "cell_type": "code",
   "execution_count": null,
   "id": "edca1b22",
   "metadata": {},
   "outputs": [],
   "source": [
    "tmplist = [10, 0, 1, 2, 3, 10, 4]\n",
    "tmplist.remove(10)\n",
    "print(tmplist)\n",
    "# 注意 删除不存在的元素会报错 这点我认为remove做的不好\n",
    "# tmplist.remove(9)\n",
    "# print(tmplist)"
   ]
  },
  {
   "cell_type": "markdown",
   "id": "b81e1956",
   "metadata": {},
   "source": [
    "---\n",
    "clear ()：删除列表所有元素"
   ]
  },
  {
   "cell_type": "code",
   "execution_count": null,
   "id": "d3746030",
   "metadata": {},
   "outputs": [],
   "source": [
    "tmplist = [10, 0, 1, 2, 3, 10, 4]\n",
    "tmplist.clear()\n",
    "print(tmplist)"
   ]
  },
  {
   "cell_type": "markdown",
   "id": "dde23d0d",
   "metadata": {},
   "source": [
    "### 查找"
   ]
  },
  {
   "cell_type": "code",
   "execution_count": null,
   "id": "ded9dfa4",
   "metadata": {},
   "outputs": [],
   "source": [
    "#使用in关键字来检查元素是否存在于列表中，例如：\n",
    "my_list = [1, 2, 3, 4, 5]\n",
    "if 3 in my_list:\n",
    "    print(\"3 is in the list\")\n",
    "# 使用index()方法来获取元素的索引，例如：\n",
    "my_list = [7, 8, 9, 10, 11]\n",
    "index = my_list.index(10)\n",
    "print(\"Index of 10 is\", index)\n",
    "# 使用count()方法来统计元素在列表中出现的次数，例如：\n",
    "my_list = [1, 2, 3, 3,3,3,3, 4, 5]\n",
    "count = my_list.count(3)\n",
    "print(\"Number of times 3 appears is\", count)\n",
    "# 遍历查找\n",
    "my_list = [1, 2, 3, 4, 5]\n",
    "target = 3\n",
    "found = [item for item in my_list if item == target]\n",
    "if found:\n",
    "    print(\"Found\", target)\n",
    "else:\n",
    "    print(\"Not found\", target)"
   ]
  },
  {
   "cell_type": "markdown",
   "id": "5ef30048",
   "metadata": {},
   "source": [
    "## 操作\n",
    "### 排序\n",
    "使⽤ sort () ⽅法对列表进⾏永久排序"
   ]
  },
  {
   "cell_type": "code",
   "execution_count": null,
   "id": "c051e8df",
   "metadata": {},
   "outputs": [],
   "source": [
    "cars = ['bmw', 'audi', 'toyota', 'subaru'] # 按照字典序正序排列\n",
    "cars.sort()\n",
    "print(cars)\n",
    "cars.sort(reverse=True) # 反序\n",
    "print(cars)"
   ]
  },
  {
   "cell_type": "markdown",
   "id": "75286b13",
   "metadata": {},
   "source": [
    "---\n",
    "使⽤ sorted () 函数对列表进⾏临时排序"
   ]
  },
  {
   "cell_type": "code",
   "execution_count": null,
   "id": "6255f43c",
   "metadata": {},
   "outputs": [],
   "source": [
    "cars = ['bmw', 'audi', 'toyota', 'subaru']\n",
    "print(\"原始列表:\",cars)\n",
    "print(\"临时排序：\",sorted(cars)) # 临时排序  其实就是没有作用到本身 返回了一个新的列表\n",
    "print(\"临时排序(反序)：\",sorted(cars,reverse=True)) # 临时排序  其实就是没有作用到本身 返回了一个新的列表\n",
    "print(\"原始列表:\",cars)"
   ]
  },
  {
   "cell_type": "markdown",
   "id": "7f62b998",
   "metadata": {},
   "source": [
    "反向打印列表"
   ]
  },
  {
   "cell_type": "code",
   "execution_count": null,
   "id": "d7ce2680",
   "metadata": {},
   "outputs": [],
   "source": [
    "cars = ['bmw', 'audi', 'toyota', 'subaru']\n",
    "print(cars)\n",
    "cars.reverse()\n",
    "print(cars)"
   ]
  },
  {
   "cell_type": "markdown",
   "id": "6e7c73bb",
   "metadata": {},
   "source": [
    "---\n",
    "### 确定列表的⻓度"
   ]
  },
  {
   "cell_type": "code",
   "execution_count": null,
   "id": "7fafe9f7",
   "metadata": {},
   "outputs": [],
   "source": [
    "cars = ['bmw', 'audi', 'toyota', 'subaru']\n",
    "len(cars)"
   ]
  },
  {
   "cell_type": "markdown",
   "id": "b10f7bfb",
   "metadata": {},
   "source": [
    "---\n",
    "### 访问最后⼀个列表元素"
   ]
  },
  {
   "cell_type": "code",
   "execution_count": null,
   "id": "3e933446",
   "metadata": {},
   "outputs": [],
   "source": [
    "motorcycles = ['honda', 'yamaha', 'suzuki']\n",
    "print(motorcycles[-1])\n",
    "# 仅当列表为空时，这种访问最后⼀个元素的⽅式才会导致错误：\n",
    "# motorcycles = []\n",
    "# print(motorcycles[-1])"
   ]
  },
  {
   "cell_type": "markdown",
   "id": "9b00bb49",
   "metadata": {},
   "source": [
    "---\n",
    "### 遍历整个列表"
   ]
  },
  {
   "cell_type": "code",
   "execution_count": null,
   "id": "16a5f377",
   "metadata": {},
   "outputs": [],
   "source": [
    "magicians = ['alice', 'david', 'carolina']\n",
    "for magician in magicians:\n",
    " print(magician)"
   ]
  },
  {
   "cell_type": "markdown",
   "id": "26aa3052",
   "metadata": {},
   "source": [
    "---\n",
    "### range () 函数生成数字列表"
   ]
  },
  {
   "cell_type": "code",
   "execution_count": null,
   "id": "8a0e9119",
   "metadata": {},
   "outputs": [],
   "source": [
    "for value in range(1, 5):\n",
    " print(value)\n",
    "numbers = list(range(1, 6))\n",
    "print(numbers)"
   ]
  },
  {
   "cell_type": "code",
   "execution_count": null,
   "id": "9adaa212",
   "metadata": {},
   "outputs": [],
   "source": [
    "# 在使⽤ range() 函数时，还可指定步⻓。 \n",
    "even_numbers = list(range(2, 11, 2))\n",
    "print(even_numbers)"
   ]
  },
  {
   "cell_type": "markdown",
   "id": "8329d3d0",
   "metadata": {},
   "source": [
    "---\n",
    "### 列表推导式"
   ]
  },
  {
   "cell_type": "code",
   "execution_count": null,
   "id": "c27471db",
   "metadata": {},
   "outputs": [],
   "source": [
    "squares = [value for value in range(1, 11)]\n",
    "print(squares)\n",
    "# 对于返回值还能操作\n",
    "squares = [value ** 2 for value in range(1, 11)]\n",
    "print(squares)\n",
    "temp = [print(value) for value in range(1, 11)]"
   ]
  },
  {
   "cell_type": "markdown",
   "id": "243b4f0e",
   "metadata": {},
   "source": [
    "---\n",
    "### 切⽚\n",
    "在 Python 中，切片是一种用于从序列中获取子序列的方法，比如列表、元组和字符串。切片使用类似于[start:stop: step]的语法来指定要提取的子序列范围。\n",
    "具体来说，切片的语法包括以下几个部分：\n",
    "start: 表示起始位置，即子序列的起始索引，包含在切片结果中。\n",
    "stop: 表示结束位置，即子序列的结束索引，不包含在切片结果中。\n",
    "step: 表示步长，用于指定每隔多少个元素取一个值，默认为 1。\n",
    "下面是一些例子，演示了如何使用切片来提取子序列："
   ]
  },
  {
   "cell_type": "code",
   "execution_count": null,
   "id": "f9b8c547",
   "metadata": {},
   "outputs": [],
   "source": [
    "# 列表切片\n",
    "lst = [1, 2, 3, 4, 5, 6, 7, 8, 9, 10]\n",
    "print(lst[2:5])  # 输出 [3, 4, 5]\n",
    "print(lst[:5])   # 输出 [1, 2, 3, 4, 5]\n",
    "print(lst[5:])   # 输出 [6, 7, 8, 9, 10]\n",
    "print(lst[::2])  # 输出 [1, 3, 5, 7, 9]\n",
    "# 元组切片\n",
    "tup = (1, 2, 3, 4, 5)\n",
    "print(tup[1:4])  # 输出 (2, 3, 4)\n",
    "print(tup[::2])  # 输出 (1, 3, 5)\n",
    "# 字符串切片\n",
    "string = \"hello, world\"\n",
    "print(string[2:6])  # 输出 \"llo,\"\n",
    "print(string[::2])  # 输出 \"hlo ol\""
   ]
  },
  {
   "cell_type": "markdown",
   "id": "e2e301ab",
   "metadata": {},
   "source": [
    "--- \n",
    "### 复制列表\n",
    "可以看到 这种 简单的=赋值情况下，两个列表其实指向了同一个空间，当修改任意列表内容后，都将影响其他的列表（本质上就是指向了同一个位置）"
   ]
  },
  {
   "cell_type": "code",
   "execution_count": null,
   "id": "17cc2473",
   "metadata": {},
   "outputs": [],
   "source": [
    "list_1 = ['a', 'b', 'c']\n",
    "list_2 = list_1\n",
    "list_2.remove('a')\n",
    "print(list_1)\n",
    "print(\"list_1:\",id(list_1))\n",
    "print(\"list_2:\",id(list_2))"
   ]
  },
  {
   "cell_type": "markdown",
   "id": "27b6a6a7",
   "metadata": {},
   "source": [
    "---\n",
    "### 拷贝列表"
   ]
  },
  {
   "cell_type": "code",
   "execution_count": null,
   "id": "21c59dd4",
   "metadata": {},
   "outputs": [],
   "source": [
    "import copy\n",
    "# 使用切片来拷贝列表\n",
    "original_list = [1, 2, 3]\n",
    "copied_list_slice = original_list[:]  # 通过切片操作拷贝列表\n",
    "# 使用copy模块来拷贝列表\n",
    "copied_list_copy = copy.copy(original_list)  # 使用copy模块拷贝列表\n",
    "print(\"原始列表地址:\", id(original_list))\n",
    "print(\"拷贝列表地址(切片):\", id(copied_list_slice))\n",
    "print(\"拷贝列表地址(copy):\", id(copied_list_copy))"
   ]
  },
  {
   "cell_type": "markdown",
   "id": "32e5917a",
   "metadata": {},
   "source": [
    "---\n",
    "实验  确认切片后是两个列表"
   ]
  },
  {
   "cell_type": "code",
   "execution_count": null,
   "id": "7cbfffb6",
   "metadata": {},
   "outputs": [],
   "source": [
    "my_foods = ['pizza', 'falafel', 'carrot cake']\n",
    "friend_foods = my_foods[:]\n",
    "print(\"My favorite foods are:\")\n",
    "print(my_foods)\n",
    "print(\"\\nMy friend's favorite foods are:\")\n",
    "print(friend_foods)\n",
    "print(\"\\nmy_foods:\", id(my_foods))\n",
    "print(\"friend_foods:\", id(friend_foods))\n",
    "print(\"\\n元素ID:\")\n",
    "for i in range(len(my_foods)):\n",
    "    print(\"my_foods    [{}]: {}\".format(i, id(my_foods[i])))\n",
    "    print(\"friend_foods[{}]: {}\".format(i, id(friend_foods[i])))\n",
    "my_foods.append('my_foods')\n",
    "friend_foods.append('friend_foods')\n",
    "print(\"\\n修改后元素ID:\")\n",
    "for i in range(len(my_foods)):\n",
    "    print(\"my_foods    [{}]: {}\".format(i, id(my_foods[i])))\n",
    "    print(\"friend_foods[{}]: {}\".format(i, id(friend_foods[i])))"
   ]
  },
  {
   "cell_type": "markdown",
   "id": "3cd2ff87",
   "metadata": {},
   "source": [
    "---\n",
    "但是这个拷贝就万无一失了吗？\n",
    "以下是一个没有深拷贝造成 bug 的示例代码："
   ]
  },
  {
   "cell_type": "code",
   "execution_count": null,
   "id": "69d3ee25",
   "metadata": {},
   "outputs": [],
   "source": [
    "import copy\n",
    "original_list = [[1, 2], [3, 4], [5, 6]]\n",
    "copied_list = copy.copy(original_list)\n",
    "# 修改拷贝后的列表\n",
    "copied_list[0][0] = 100\n",
    "print(\"原始列表:\", original_list)\n",
    "print(\"拷贝后的列表:\", copied_list)"
   ]
  },
  {
   "cell_type": "markdown",
   "id": "b9588373",
   "metadata": {},
   "source": [
    "---\n",
    "使用深拷贝的结果"
   ]
  },
  {
   "cell_type": "code",
   "execution_count": null,
   "id": "2aa47d0a",
   "metadata": {},
   "outputs": [],
   "source": [
    "import copy\n",
    "original_list = [[1, 2], [3, 4], [5, 6]]\n",
    "copied_list_deepcopy = copy.deepcopy(original_list)\n",
    "# 修改深度复制后的列表\n",
    "copied_list_deepcopy[0][0] = 100\n",
    "print(\"原始列表:\", original_list)\n",
    "print(\"深度复制后的列表:\", copied_list_deepcopy)"
   ]
  },
  {
   "cell_type": "markdown",
   "id": "7bc8007b",
   "metadata": {},
   "source": [
    "## 元组\n",
    "有时候需要创建⼀系列不可修改的元素，元组可满⾜这种需求。Python\n",
    "将不能修改的值称为不可变的，⽽不可变的列表称为元组（tupe）\n",
    "### 定义元组\n",
    "使⽤圆括号⽽不是⽅括号来标识。。"
   ]
  },
  {
   "cell_type": "code",
   "execution_count": null,
   "id": "483b417f",
   "metadata": {},
   "outputs": [],
   "source": [
    "dimensions = (200, 50)\n",
    "print(dimensions[0])\n",
    "print(dimensions[1])\n",
    "#尝试修改元组 dimensions 的⼀个元素  将会提示如下错误\n",
    "# dimensions[0] = 250\n",
    "#\n",
    "#---------------------------------------------------------------------------\n",
    "#TypeError                                 Traceback (most recent call last)\n",
    "#Cell In[28], line 5\n",
    "#      3 print(dimensions[1])\n",
    "#      4 #尝试修改元组 dimensions 的⼀个元素\n",
    "#----> 5 dimensions[0] = 250\n",
    "#\n",
    "#TypeError: 'tuple' object does not support item assignment  \n",
    "# "
   ]
  },
  {
   "cell_type": "code",
   "execution_count": null,
   "id": "25304f9c",
   "metadata": {},
   "outputs": [],
   "source": [
    "#注意：严格地说，元组是由逗号标识的，圆括号只是让元组看起来更 整洁、更清晰。如果你要定义只包含⼀个元素的元组，必须在这个元 素后⾯加上逗号：\n",
    "my_t = (3,)\n",
    "print(my_t)"
   ]
  },
  {
   "cell_type": "markdown",
   "id": "348a7490",
   "metadata": {},
   "source": [
    "### 遍历元组中的所有值"
   ]
  },
  {
   "cell_type": "code",
   "execution_count": null,
   "id": "bd50f86a",
   "metadata": {},
   "outputs": [],
   "source": [
    "my_tuple = (1, 2, 3, 4, 5)\n",
    "# 遍历元组中的所有值\n",
    "for value in my_tuple:\n",
    "    print(value)"
   ]
  },
  {
   "cell_type": "markdown",
   "id": "ea67cd67",
   "metadata": {},
   "source": [
    "### 修改元组变量"
   ]
  },
  {
   "cell_type": "code",
   "execution_count": null,
   "id": "c9e954f1",
   "metadata": {},
   "outputs": [],
   "source": [
    "my_tuple = (1, 2, 3, 4, 5)\n",
    "# 将元组转换为列表\n",
    "my_list = list(my_tuple)\n",
    "# 修改列表\n",
    "my_list[0] = 100\n",
    "# 将列表转换回元组\n",
    "my_tuple = tuple(my_list)\n",
    "print(my_tuple)"
   ]
  }
 ],
 "metadata": {},
 "nbformat": 4,
 "nbformat_minor": 5
}
